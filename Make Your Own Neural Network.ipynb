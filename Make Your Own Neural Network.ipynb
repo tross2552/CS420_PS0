{
 "cells": [
  {
   "cell_type": "markdown",
   "metadata": {},
   "source": [
    "# Make Your Own Neural Network"
   ]
  },
  {
   "cell_type": "code",
   "execution_count": 17,
   "metadata": {},
   "outputs": [],
   "source": [
    "import numpy as np\n",
    "import matplotlib.pyplot as plt\n",
    "import seaborn as sns\n",
    "import pandas as pd\n",
    "\n",
    "import scipy.special\n",
    "%matplotlib inline"
   ]
  },
  {
   "cell_type": "markdown",
   "metadata": {},
   "source": [
    "### Network implementation"
   ]
  },
  {
   "cell_type": "code",
   "execution_count": 2,
   "metadata": {},
   "outputs": [],
   "source": [
    "# neural network class definition\n",
    "class NeuralNetwork:\n",
    "    \n",
    "    \n",
    "    # initialise the neural network\n",
    "    def __init__(self, inputnodes, hiddennodes, outputnodes, learningrate):\n",
    "        # set number of nodes in each input, hidden, output layer\n",
    "        self.inodes = inputnodes\n",
    "        self.hnodes = hiddennodes\n",
    "        self.onodes = outputnodes\n",
    "        \n",
    "        # link weight matrices, wih and who\n",
    "        # weights inside the arrays are w_i_j, where link is from node i to node j in the next layer\n",
    "        # w11 w21\n",
    "        # w12 w22 etc \n",
    "        self.wih = np.random.normal(0.0, pow(self.inodes, -0.5), (self.hnodes, self.inodes))\n",
    "        self.who = np.random.normal(0.0, pow(self.hnodes, -0.5), (self.onodes, self.hnodes))\n",
    "\n",
    "        # learning rate\n",
    "        self.lr = learningrate\n",
    "        \n",
    "        # activation function is the sigmoid function\n",
    "        self.activation_function = lambda x: scipy.special.expit(x)\n",
    "        \n",
    "        pass\n",
    "\n",
    "    \n",
    "    # train the neural network\n",
    "    def train(self, inputs_list, targets_list):\n",
    "        # convert inputs list to 2d array\n",
    "        inputs = np.array(inputs_list, ndmin=2).T\n",
    "        targets = np.array(targets_list, ndmin=2).T\n",
    "        \n",
    "        # calculate signals into hidden layer\n",
    "        hidden_inputs = np.dot(self.wih, inputs)\n",
    "        # calculate the signals emerging from hidden layer\n",
    "        hidden_outputs = self.activation_function(hidden_inputs)\n",
    "        \n",
    "        # calculate signals into final output layer\n",
    "        final_inputs = np.dot(self.who, hidden_outputs)\n",
    "        # calculate the signals emerging from final output layer\n",
    "        final_outputs = self.activation_function(final_inputs)\n",
    "        \n",
    "        # output layer error is the (target - actual)\n",
    "        output_errors = targets - final_outputs\n",
    "        # hidden layer error is the output_errors, split by weights, recombined at hidden nodes\n",
    "        hidden_errors = np.dot(self.who.T, output_errors) \n",
    "        \n",
    "        # update the weights for the links between the hidden and output layers\n",
    "        self.who += self.lr * np.dot((output_errors * final_outputs * (1.0 - final_outputs)), np.transpose(hidden_outputs))\n",
    "        \n",
    "        # update the weights for the links between the input and hidden layers\n",
    "        self.wih += self.lr * np.dot((hidden_errors * hidden_outputs * (1.0 - hidden_outputs)), np.transpose(inputs))\n",
    "        \n",
    "        pass\n",
    "\n",
    "    \n",
    "    # query the neural network\n",
    "    def query(self, inputs_list):\n",
    "        # convert inputs list to 2d array\n",
    "        inputs = np.array(inputs_list, ndmin=2).T\n",
    "        \n",
    "        # calculate signals into hidden layer\n",
    "        hidden_inputs = np.dot(self.wih, inputs)\n",
    "        # calculate the signals emerging from hidden layer\n",
    "        hidden_outputs = self.activation_function(hidden_inputs)\n",
    "        \n",
    "        # calculate signals into final output layer\n",
    "        final_inputs = np.dot(self.who, hidden_outputs)\n",
    "        # calculate the signals emerging from final output layer\n",
    "        final_outputs = self.activation_function(final_inputs)\n",
    "        \n",
    "        return final_outputs"
   ]
  },
  {
   "cell_type": "markdown",
   "metadata": {},
   "source": [
    "### Preparing the MNIST Training Data"
   ]
  },
  {
   "cell_type": "code",
   "execution_count": 3,
   "metadata": {},
   "outputs": [
    {
     "data": {
      "text/plain": [
       "<matplotlib.image.AxesImage at 0x7f5ef4a31358>"
      ]
     },
     "execution_count": 3,
     "metadata": {},
     "output_type": "execute_result"
    },
    {
     "data": {
      "image/png": "[encoded data removed]",
      "text/plain": [
       "<Figure size 432x288 with 1 Axes>"
      ]
     },
     "metadata": {
      "needs_background": "light"
     },
     "output_type": "display_data"
    }
   ],
   "source": [
    "df = pd.read_csv(\"mnist_train.csv\", header=None)\n",
    "X_train = df.values[:,1:]\n",
    "Y_train = df.values[:,0]\n",
    "\n",
    "test_img = X_train[0].reshape(28,28)\n",
    "plt.imshow(test_img,cmap='Greys', interpolation='None')"
   ]
  },
  {
   "cell_type": "markdown",
   "metadata": {},
   "source": [
    "The first thing we need to do is to rescale the input colour values from the large range \\[0 to 255\\] to the much smaller range \\[0.01 - 1.0\\]."
   ]
  },
  {
   "cell_type": "code",
   "execution_count": 4,
   "metadata": {
    "scrolled": true
   },
   "outputs": [
    {
     "name": "stdout",
     "output_type": "stream",
     "text": [
      "[[0.01 0.01 0.01 ... 0.01 0.01 0.01]\n",
      " [0.01 0.01 0.01 ... 0.01 0.01 0.01]\n",
      " [0.01 0.01 0.01 ... 0.01 0.01 0.01]\n",
      " ...\n",
      " [0.01 0.01 0.01 ... 0.01 0.01 0.01]\n",
      " [0.01 0.01 0.01 ... 0.01 0.01 0.01]\n",
      " [0.01 0.01 0.01 ... 0.01 0.01 0.01]]\n"
     ]
    }
   ],
   "source": [
    "X_train = (X_train / 255.0) * 0.99 + 0.01\n",
    "print(X_train)"
   ]
  },
  {
   "cell_type": "markdown",
   "metadata": {},
   "source": [
    "Now we can begin to train a network on our examples."
   ]
  },
  {
   "cell_type": "code",
   "execution_count": 5,
   "metadata": {},
   "outputs": [],
   "source": [
    "nodes_i = 784\n",
    "nodes_h = 100\n",
    "nodes_o = 10\n",
    "\n",
    "learn_rate = 0.3\n",
    "\n",
    "n = NeuralNetwork(nodes_i, nodes_h, nodes_o, learn_rate)\n",
    "\n",
    "for x, y  in zip(X_train, Y_train):\n",
    "    targets = np.zeros(nodes_o) + 0.01\n",
    "    targets[y] = 0.99\n",
    "    \n",
    "    n.train(x, targets)"
   ]
  },
  {
   "cell_type": "markdown",
   "metadata": {},
   "source": [
    "### Testing the Network"
   ]
  },
  {
   "cell_type": "code",
   "execution_count": 6,
   "metadata": {},
   "outputs": [
    {
     "data": {
      "text/plain": [
       "<matplotlib.image.AxesImage at 0x7f5ef4e275c0>"
      ]
     },
     "execution_count": 6,
     "metadata": {},
     "output_type": "execute_result"
    },
    {
     "data": {
      "image/png": "[encoded data removed]",
      "text/plain": [
       "<Figure size 432x288 with 1 Axes>"
      ]
     },
     "metadata": {
      "needs_background": "light"
     },
     "output_type": "display_data"
    }
   ],
   "source": [
    "df = pd.read_csv(\"mnist_test.csv\", header=None)\n",
    "X_test = df.values[:,1:]\n",
    "Y_test = df.values[:,0]\n",
    "\n",
    "test_img = X_test[0].reshape(28,28)\n",
    "plt.imshow(test_img,cmap='Greys', interpolation='None')"
   ]
  },
  {
   "cell_type": "code",
   "execution_count": 7,
   "metadata": {},
   "outputs": [
    {
     "name": "stdout",
     "output_type": "stream",
     "text": [
      "[[0.01 0.01 0.01 ... 0.01 0.01 0.01]\n",
      " [0.01 0.01 0.01 ... 0.01 0.01 0.01]\n",
      " [0.01 0.01 0.01 ... 0.01 0.01 0.01]\n",
      " ...\n",
      " [0.01 0.01 0.01 ... 0.01 0.01 0.01]\n",
      " [0.01 0.01 0.01 ... 0.01 0.01 0.01]\n",
      " [0.01 0.01 0.01 ... 0.01 0.01 0.01]]\n"
     ]
    }
   ],
   "source": [
    "X_test = (X_test / 255.0) * 0.99 + 0.01\n",
    "print(X_test)"
   ]
  },
  {
   "cell_type": "code",
   "execution_count": 8,
   "metadata": {},
   "outputs": [
    {
     "name": "stdout",
     "output_type": "stream",
     "text": [
      "performance =  0.9391\n"
     ]
    }
   ],
   "source": [
    "scorecard = []\n",
    "\n",
    "for x, y in zip(X_test, Y_test):\n",
    "    outputs = n.query(x)\n",
    "    label = np.argmax(outputs)\n",
    "    \n",
    "    scorecard.append( int(label == y) )\n",
    "\n",
    "scorecard_arr = np.asarray(scorecard)\n",
    "print(\"performance = \", scorecard_arr.sum() / scorecard_arr.size)\n",
    "        "
   ]
  },
  {
   "cell_type": "markdown",
   "metadata": {},
   "source": [
    "### Some Improvements"
   ]
  },
  {
   "cell_type": "markdown",
   "metadata": {},
   "source": [
    "#### Tweaking the Learning Rate"
   ]
  },
  {
   "cell_type": "markdown",
   "metadata": {},
   "source": [
    "Let's try adjusting the learning rate to see if we can boost performance"
   ]
  },
  {
   "cell_type": "code",
   "execution_count": 33,
   "metadata": {},
   "outputs": [
    {
     "name": "stdout",
     "output_type": "stream",
     "text": [
      "learning rate:  0.05\n",
      "performance:  0.9394\n",
      "\n",
      "learning rate:  0.1\n",
      "performance:  0.948\n",
      "\n",
      "learning rate:  0.2\n",
      "performance:  0.9501\n",
      "\n",
      "learning rate:  0.3\n",
      "performance:  0.9468\n",
      "\n",
      "learning rate:  0.6\n",
      "performance:  0.9201\n",
      "\n",
      "learning rate:  0.9\n",
      "performance:  0.8779\n",
      "\n"
     ]
    }
   ],
   "source": [
    "learn_rates = [0.05, 0.1, 0.2, 0.3, 0.6, 0.9]\n",
    "scores = []\n",
    "\n",
    "for curr_rate in learn_rates:\n",
    "\n",
    "    learn_rate = curr_rate\n",
    "    \n",
    "    n = NeuralNetwork(nodes_i, nodes_h, nodes_o, learn_rate)\n",
    "\n",
    "    for x, y in zip(X_train, Y_train):\n",
    "        targets = np.zeros(nodes_o) + 0.01\n",
    "        targets[y] = 0.99\n",
    "\n",
    "        n.train(x, targets)\n",
    "    \n",
    "    \n",
    "    scorecard = []\n",
    "\n",
    "    for x, y in zip(X_test, Y_test):\n",
    "        outputs = n.query(x)\n",
    "        label = np.argmax(outputs)\n",
    "\n",
    "        scorecard.append( int(label == y) )\n",
    "\n",
    "    scorecard_arr = np.asarray(scorecard)\n",
    "    \n",
    "    score = scorecard_arr.sum() / scorecard_arr.size\n",
    "    \n",
    "    print(\"learning rate: \", learn_rate)\n",
    "    print(\"performance: \", score)\n",
    "    print()\n",
    "    \n",
    "    scores.append(score)\n",
    "    "
   ]
  },
  {
   "cell_type": "code",
   "execution_count": 32,
   "metadata": {},
   "outputs": [
    {
     "data": {
      "text/plain": [
       "<matplotlib.axes._subplots.AxesSubplot at 0x7f5ef2d13320>"
      ]
     },
     "execution_count": 32,
     "metadata": {},
     "output_type": "execute_result"
    },
    {
     "data": {
      "image/png": "[encoded data removed]",
      "text/plain": [
       "<Figure size 432x288 with 1 Axes>"
      ]
     },
     "metadata": {},
     "output_type": "display_data"
    }
   ],
   "source": [
    "# convert to pandas dataframe\n",
    "scores_df = {'learning rate': learn_rates, 'performance': scores}\n",
    "scores_df = pd.DataFrame(scores_df)\n",
    "\n",
    "# plot using lineplot\n",
    "sns.set(style='darkgrid')\n",
    "sns.lineplot(x='learning rate', y='performance', markers='o', data=scores_df)"
   ]
  },
  {
   "cell_type": "markdown",
   "metadata": {},
   "source": [
    "Based on these results, we'll lower the learning rate to 0.2."
   ]
  },
  {
   "cell_type": "code",
   "execution_count": 35,
   "metadata": {},
   "outputs": [],
   "source": [
    "learn_rate = 0.2"
   ]
  },
  {
   "cell_type": "markdown",
   "metadata": {},
   "source": [
    "#### Doing Multiple Runs"
   ]
  },
  {
   "cell_type": "markdown",
   "metadata": {},
   "source": [
    "We can improve the model by passing through the data multiple times. Each pass is called an **epoch**. Let's test to see how many epochs we should use."
   ]
  },
  {
   "cell_type": "code",
   "execution_count": 39,
   "metadata": {},
   "outputs": [
    {
     "name": "stdout",
     "output_type": "stream",
     "text": [
      "number of epochs:  1\n",
      "performance:  0.9435\n",
      "\n",
      "number of epochs:  2\n",
      "performance:  0.9597\n",
      "\n",
      "number of epochs:  4\n",
      "performance:  0.9592\n",
      "\n",
      "number of epochs:  5\n",
      "performance:  0.9627\n",
      "\n",
      "number of epochs:  6\n",
      "performance:  0.9602\n",
      "\n",
      "number of epochs:  9\n",
      "performance:  0.9609\n",
      "\n"
     ]
    }
   ],
   "source": [
    "num_epochs = [1,2,4,5,6,9]\n",
    "scores = []\n",
    "\n",
    "for num in num_epochs:\n",
    "    \n",
    "    n = NeuralNetwork(nodes_i, nodes_h, nodes_o, learn_rate)\n",
    "    for i in range(num):\n",
    "        for x, y in zip(X_train, Y_train):\n",
    "            targets = np.zeros(nodes_o) + 0.01\n",
    "            targets[y] = 0.99\n",
    "\n",
    "            n.train(x, targets)\n",
    "    \n",
    "    \n",
    "    scorecard = []\n",
    "\n",
    "    for x, y in zip(X_test, Y_test):\n",
    "        outputs = n.query(x)\n",
    "        label = np.argmax(outputs)\n",
    "\n",
    "        scorecard.append( int(label == y) )\n",
    "\n",
    "    scorecard_arr = np.asarray(scorecard)\n",
    "    \n",
    "    score = scorecard_arr.sum() / scorecard_arr.size\n",
    "    \n",
    "    print(\"number of epochs: \", num)\n",
    "    print(\"performance: \", score)\n",
    "    print()\n",
    "    \n",
    "    scores.append(score)"
   ]
  },
  {
   "cell_type": "code",
   "execution_count": 40,
   "metadata": {},
   "outputs": [
    {
     "data": {
      "text/plain": [
       "<matplotlib.axes._subplots.AxesSubplot at 0x7f5ef2c74cf8>"
      ]
     },
     "execution_count": 40,
     "metadata": {},
     "output_type": "execute_result"
    },
    {
     "data": {
      "image/png": "[encoded data removed]",
      "text/plain": [
       "<Figure size 432x288 with 1 Axes>"
      ]
     },
     "metadata": {},
     "output_type": "display_data"
    }
   ],
   "source": [
    "# convert to pandas dataframe\n",
    "scores_df = {'number of epochs': num_epochs, 'performance': scores}\n",
    "scores_df = pd.DataFrame(scores_df)\n",
    "\n",
    "# plot using lineplot\n",
    "sns.set(style='darkgrid')\n",
    "sns.lineplot(x='number of epochs', y='performance', markers='o', data=scores_df)"
   ]
  },
  {
   "cell_type": "markdown",
   "metadata": {},
   "source": [
    "Based on these results, we'll train with 5 epochs."
   ]
  },
  {
   "cell_type": "markdown",
   "metadata": {},
   "source": [
    "#### Change the Network's Shape"
   ]
  },
  {
   "cell_type": "markdown",
   "metadata": {},
   "source": [
    "We can try to increase the **learning capacity** by changing the number of hidden nodes."
   ]
  },
  {
   "cell_type": "code",
   "execution_count": 42,
   "metadata": {},
   "outputs": [
    {
     "name": "stdout",
     "output_type": "stream",
     "text": [
      "number of hidden nodes:  5\n",
      "performance:  0.7911\n",
      "\n",
      "number of hidden nodes:  10\n",
      "performance:  0.8833\n",
      "\n",
      "number of hidden nodes:  70\n",
      "performance:  0.9567\n",
      "\n",
      "number of hidden nodes:  100\n",
      "performance:  0.9579\n",
      "\n",
      "number of hidden nodes:  200\n",
      "performance:  0.9673\n",
      "\n",
      "number of hidden nodes:  500\n",
      "performance:  0.975\n",
      "\n"
     ]
    }
   ],
   "source": [
    "hidden_size = [5,10,70,100,200,500]\n",
    "scores = []\n",
    "\n",
    "for curr_size in hidden_size:\n",
    "    \n",
    "    nodes_h = curr_size\n",
    "    \n",
    "    n = NeuralNetwork(nodes_i, nodes_h, nodes_o, learn_rate)\n",
    "    \n",
    "    for i in range(5):\n",
    "        for x, y in zip(X_train, Y_train):\n",
    "            targets = np.zeros(nodes_o) + 0.01\n",
    "            targets[y] = 0.99\n",
    "\n",
    "            n.train(x, targets)\n",
    "    \n",
    "    \n",
    "    scorecard = []\n",
    "\n",
    "    for x, y in zip(X_test, Y_test):\n",
    "        outputs = n.query(x)\n",
    "        label = np.argmax(outputs)\n",
    "\n",
    "        scorecard.append( int(label == y) )\n",
    "\n",
    "    scorecard_arr = np.asarray(scorecard)\n",
    "    \n",
    "    score = scorecard_arr.sum() / scorecard_arr.size\n",
    "    \n",
    "    print(\"number of hidden nodes: \", nodes_h)\n",
    "    print(\"performance: \", score)\n",
    "    print()\n",
    "    \n",
    "    scores.append(score)"
   ]
  },
  {
   "cell_type": "code",
   "execution_count": 45,
   "metadata": {},
   "outputs": [
    {
     "data": {
      "text/plain": [
       "<matplotlib.axes._subplots.AxesSubplot at 0x7f5ef2adcf60>"
      ]
     },
     "execution_count": 45,
     "metadata": {},
     "output_type": "execute_result"
    },
    {
     "data": {
      "image/png": "[encoded data removed]",
      "text/plain": [
       "<Figure size 432x288 with 1 Axes>"
      ]
     },
     "metadata": {},
     "output_type": "display_data"
    }
   ],
   "source": [
    "# convert to pandas dataframe\n",
    "scores_df = {'number of hidden nodes': hidden_size, 'performance': scores}\n",
    "scores_df = pd.DataFrame(scores_df)\n",
    "\n",
    "# plot using lineplot\n",
    "sns.set(style='darkgrid')\n",
    "sns.lineplot(x='number of hidden nodes', y='performance', markers='o', data=scores_df)"
   ]
  },
  {
   "cell_type": "markdown",
   "metadata": {},
   "source": [
    "To avoid overfitting, we keep the number of hidden nodes to 200."
   ]
  }
 ],
 "metadata": {
  "kernelspec": {
   "display_name": "Python 3",
   "language": "python",
   "name": "python3"
  },
  "language_info": {
   "codemirror_mode": {
    "name": "ipython",
    "version": 3
   },
   "file_extension": ".py",
   "mimetype": "text/x-python",
   "name": "python",
   "nbconvert_exporter": "python",
   "pygments_lexer": "ipython3",
   "version": "3.7.3"
  }
 },
 "nbformat": 4,
 "nbformat_minor": 2
}
